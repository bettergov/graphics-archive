{
 "cells": [
  {
   "cell_type": "code",
   "execution_count": 1,
   "metadata": {},
   "outputs": [],
   "source": [
    "import os\n",
    "\n",
    "from census import Census\n",
    "from us import states\n",
    "\n",
    "import pandas as pd\n",
    "from tqdm import tqdm\n",
    "\n",
    "tqdm.pandas()\n",
    "\n",
    "c = Census(os.environ['US_CENSUS_API_KEY'])\n",
    "places_df = pd.read_csv('cook-county-places.csv')\n",
    "places_df.PLACEFP = places_df.PLACEFP.apply(lambda x: str(x).zfill(5))"
   ]
  },
  {
   "cell_type": "code",
   "execution_count": 2,
   "metadata": {},
   "outputs": [
    {
     "name": "stderr",
     "output_type": "stream",
     "text": [
      "100%|██████████| 146/146 [00:11<00:00, 13.61it/s]\n"
     ]
    },
    {
     "data": {
      "text/html": [
       "<div>\n",
       "<style scoped>\n",
       "    .dataframe tbody tr th:only-of-type {\n",
       "        vertical-align: middle;\n",
       "    }\n",
       "\n",
       "    .dataframe tbody tr th {\n",
       "        vertical-align: top;\n",
       "    }\n",
       "\n",
       "    .dataframe thead th {\n",
       "        text-align: right;\n",
       "    }\n",
       "</style>\n",
       "<table border=\"1\" class=\"dataframe\">\n",
       "  <thead>\n",
       "    <tr style=\"text-align: right;\">\n",
       "      <th></th>\n",
       "      <th>NAME</th>\n",
       "      <th>B25001_001E</th>\n",
       "      <th>state</th>\n",
       "      <th>place</th>\n",
       "    </tr>\n",
       "  </thead>\n",
       "  <tbody>\n",
       "    <tr>\n",
       "      <th>0</th>\n",
       "      <td>Lansing village</td>\n",
       "      <td>12182.0</td>\n",
       "      <td>17</td>\n",
       "      <td>42028</td>\n",
       "    </tr>\n",
       "    <tr>\n",
       "      <th>1</th>\n",
       "      <td>Merrionette Park village</td>\n",
       "      <td>912.0</td>\n",
       "      <td>17</td>\n",
       "      <td>48554</td>\n",
       "    </tr>\n",
       "    <tr>\n",
       "      <th>2</th>\n",
       "      <td>Niles village</td>\n",
       "      <td>11900.0</td>\n",
       "      <td>17</td>\n",
       "      <td>53000</td>\n",
       "    </tr>\n",
       "    <tr>\n",
       "      <th>3</th>\n",
       "      <td>Northbrook village</td>\n",
       "      <td>13436.0</td>\n",
       "      <td>17</td>\n",
       "      <td>53481</td>\n",
       "    </tr>\n",
       "    <tr>\n",
       "      <th>4</th>\n",
       "      <td>North Riverside village</td>\n",
       "      <td>2778.0</td>\n",
       "      <td>17</td>\n",
       "      <td>54144</td>\n",
       "    </tr>\n",
       "  </tbody>\n",
       "</table>\n",
       "</div>"
      ],
      "text/plain": [
       "                       NAME  B25001_001E state  place\n",
       "0           Lansing village      12182.0    17  42028\n",
       "1  Merrionette Park village        912.0    17  48554\n",
       "2             Niles village      11900.0    17  53000\n",
       "3        Northbrook village      13436.0    17  53481\n",
       "4   North Riverside village       2778.0    17  54144"
      ]
     },
     "metadata": {},
     "output_type": "display_data"
    }
   ],
   "source": [
    "# B25001_001E: total households (ACS5)\n",
    "def get_census_stats(placefp):\n",
    "    return c.acs5.state_place(('NAME', 'B25001_001E'), states.IL.fips, placefp, year=2016)\n",
    "\n",
    "census_places_df = places_df.PLACEFP.progress_apply(get_census_stats)\n",
    "census_places_df = census_places_df.apply(lambda x: x[0]).apply(pd.Series)\n",
    "\n",
    "census_places_df.NAME = census_places_df.NAME.str.replace(', Illinois', '')\n",
    "\n",
    "display(census_places_df.head())"
   ]
  },
  {
   "cell_type": "code",
   "execution_count": 3,
   "metadata": {},
   "outputs": [],
   "source": [
    "merged_places_df = places_df.merge(census_places_df, left_on=('PLACEFP',), right_on=('place',))\n",
    "\n",
    "cols = ['STATEFP', 'PLACEFP', 'NAME_x', 'NAMELSAD', 'B25001_001E']\n",
    "households_df = merged_places_df[cols].rename(columns={'NAME_x': 'NAME'})"
   ]
  },
  {
   "cell_type": "code",
   "execution_count": 4,
   "metadata": {},
   "outputs": [
    {
     "data": {
      "text/plain": [
       "25                CRETE\n",
       "26            FRANKFORT\n",
       "28           ROMEOVILLE\n",
       "30      UNIVERSITY PARK\n",
       "31            WOODRIDGE\n",
       "32           HOMER GLEN\n",
       "34               ITASCA\n",
       "39          BENSENVILLE\n",
       "47            DEERFIELD\n",
       "48            DEER PARK\n",
       "50          EAST DUNDEE\n",
       "53                 GOLF\n",
       "65            WOOD DALE\n",
       "105             CHICAGO\n",
       "109           OAK BROOK\n",
       "138       HIGHLAND PARK\n",
       "139          LONG GROVE\n",
       "140          RIVERWOODS\n",
       "143            LOCKPORT\n",
       "144    FRANKFORT SQUARE\n",
       "145         WILLOWBROOK\n",
       "Name: NAME, dtype: object"
      ]
     },
     "execution_count": 4,
     "metadata": {},
     "output_type": "execute_result"
    }
   ],
   "source": [
    "purchases_df = pd.read_excel('taxpurchases.xlsx')\n",
    "s2 = purchases_df['Towns'].dropna()\n",
    "s1 = households_df.NAME.str.upper()\n",
    "\n",
    "s1[~s1.isin(s2)]"
   ]
  },
  {
   "cell_type": "code",
   "execution_count": 6,
   "metadata": {},
   "outputs": [],
   "source": [
    "left = purchases_df.iloc[:, :14]\n",
    "right = households_df.copy()\n",
    "right['Towns'] = right.NAME.str.upper()\n",
    "\n",
    "output_df = left.merge(right, on='Towns')"
   ]
  },
  {
   "cell_type": "code",
   "execution_count": 15,
   "metadata": {},
   "outputs": [],
   "source": [
    "cols = ['NAME', *range(2004, 2017)]\n",
    "\n",
    "final_df = output_df[cols].set_index('NAME').transpose().fillna(0)\n",
    "\n",
    "final_df.to_csv('final-annual.csv')"
   ]
  },
  {
   "cell_type": "code",
   "execution_count": null,
   "metadata": {},
   "outputs": [],
   "source": []
  }
 ],
 "metadata": {
  "kernelspec": {
   "display_name": "Python 3",
   "language": "python",
   "name": "python3"
  },
  "language_info": {
   "codemirror_mode": {
    "name": "ipython",
    "version": 3
   },
   "file_extension": ".py",
   "mimetype": "text/x-python",
   "name": "python",
   "nbconvert_exporter": "python",
   "pygments_lexer": "ipython3",
   "version": "3.7.0"
  }
 },
 "nbformat": 4,
 "nbformat_minor": 2
}
