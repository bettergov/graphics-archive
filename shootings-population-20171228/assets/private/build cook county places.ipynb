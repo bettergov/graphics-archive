{
 "cells": [
  {
   "cell_type": "code",
   "execution_count": 1,
   "metadata": {
    "ExecuteTime": {
     "end_time": "2017-12-28T21:20:57.732061Z",
     "start_time": "2017-12-28T21:20:57.394845Z"
    },
    "collapsed": true
   },
   "outputs": [],
   "source": [
    "import requests\n",
    "import os\n",
    "from pprint import PrettyPrinter\n",
    "\n",
    "pp = PrettyPrinter(indent=4)\n",
    "\n",
    "params = {'get': 'NAME',\n",
    "         'for': 'place:*',\n",
    "#          'in': 'county:031 state:17',\n",
    "         'in': 'state:17',\n",
    "         'key': os.environ['US_CENSUS_API_KEY']}\n",
    "\n",
    "r = requests.get('https://api.census.gov/data/2010/sf1', params=params)"
   ]
  },
  {
   "cell_type": "code",
   "execution_count": 2,
   "metadata": {
    "ExecuteTime": {
     "end_time": "2017-12-28T21:20:58.759295Z",
     "start_time": "2017-12-28T21:20:58.346110Z"
    }
   },
   "outputs": [],
   "source": [
    "import pandas as pd\n",
    "\n",
    "census_df = pd.DataFrame(eval(r.text)[1:], columns=eval(r.text)[0])"
   ]
  },
  {
   "cell_type": "code",
   "execution_count": 3,
   "metadata": {
    "ExecuteTime": {
     "end_time": "2017-12-28T21:20:59.456331Z",
     "start_time": "2017-12-28T21:20:59.211818Z"
    }
   },
   "outputs": [],
   "source": [
    "import json\n",
    "\n",
    "municipalities = None\n",
    "\n",
    "with open('cook_county_municipality.json', 'r') as jsonfile:\n",
    "    jsondata = json.load(jsonfile)\n",
    "    municipalities = set([x[11] for x in jsondata['data']])\n",
    "    \n",
    "municipalities.remove('')"
   ]
  },
  {
   "cell_type": "code",
   "execution_count": 4,
   "metadata": {
    "ExecuteTime": {
     "end_time": "2017-12-28T21:20:59.933322Z",
     "start_time": "2017-12-28T21:20:59.918012Z"
    }
   },
   "outputs": [
    {
     "data": {
      "text/plain": [
       "True"
      ]
     },
     "execution_count": 4,
     "metadata": {},
     "output_type": "execute_result"
    }
   ],
   "source": [
    "cook_county_df = census_df[census_df['NAME'].str.replace(r' town| village| city', '').isin(municipalities)]\n",
    "len(cook_county_df) == len(municipalities)"
   ]
  },
  {
   "cell_type": "code",
   "execution_count": 6,
   "metadata": {
    "ExecuteTime": {
     "end_time": "2017-12-28T21:26:20.742423Z",
     "start_time": "2017-12-28T21:26:20.735427Z"
    }
   },
   "outputs": [],
   "source": [
    "cook_county_df.to_csv('cook-county-places.csv', index=False)"
   ]
  },
  {
   "cell_type": "code",
   "execution_count": null,
   "metadata": {
    "collapsed": true
   },
   "outputs": [],
   "source": []
  }
 ],
 "metadata": {
  "kernelspec": {
   "display_name": "Python 3",
   "language": "python",
   "name": "python3"
  },
  "language_info": {
   "codemirror_mode": {
    "name": "ipython",
    "version": 3
   },
   "file_extension": ".py",
   "mimetype": "text/x-python",
   "name": "python",
   "nbconvert_exporter": "python",
   "pygments_lexer": "ipython3",
   "version": "3.6.2"
  }
 },
 "nbformat": 4,
 "nbformat_minor": 2
}
