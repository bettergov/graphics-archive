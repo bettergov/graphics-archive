{
 "cells": [
  {
   "cell_type": "code",
   "execution_count": 6,
   "metadata": {
    "collapsed": true
   },
   "outputs": [],
   "source": [
    "import pandas as pd\n",
    "import csv\n",
    "import os\n",
    "import json\n",
    "import numpy as np\n",
    "\n",
    "date_range = range(1996, 2017)\n",
    "\n",
    "column_map = {\n",
    "    \"Associate in Arts\": \"AA\",\n",
    "    \"Associate in Science\": \"AS\",\n",
    "    \"Associate in Arts and Science\": \"AAS\",\n",
    "    \"Associate of Arts in Teaching\": \"AAT\",\n",
    "    \"Associate in Engineering Science\": \"AES\",\n",
    "    \"Associate in Fine Arts\": \"AFA\",\n",
    "    \"Associate in Liberal Studies & General Ed\": \"AGS\",\n",
    "    \"Associate in Applied Science\": \"AAPS\"\n",
    "}\n",
    "\n",
    "xl = pd.read_excel('cleaned_degree_completions.xlsx', sheetname=None)"
   ]
  },
  {
   "cell_type": "code",
   "execution_count": 7,
   "metadata": {
    "collapsed": true
   },
   "outputs": [],
   "source": [
    "def select(lst, *indices):\n",
    "    return (lst[i] for i in indices)\n",
    "\n",
    "def filesize(filename):\n",
    "    return os.stat(filename).st_size\n",
    "\n",
    "# Clear all files\n",
    "for filename in os.listdir('data'):\n",
    "    os.remove('data/' + filename)\n",
    "\n",
    "for year in xl:\n",
    "    df = xl[str(year)].rename(columns=column_map)\n",
    "    for idx, row in df.iterrows():\n",
    "        try:\n",
    "            label = 'data/' + row['District/College'].lower().strip().replace(' ', '-').replace('*', '') + '.csv'\n",
    "            with open(label, 'a') as csvfile:\n",
    "                writer = csv.writer(csvfile)\n",
    "                if filesize(label) == 0:\n",
    "                    writer.writerow(['key', 'value', 'date'])\n",
    "                for entry in (row.loc['AA':'AGS'].append(row.loc['AAPS':'AAPS'])).iteritems():\n",
    "                    writer.writerow([entry[0], int(entry[1]), year])\n",
    "        except ValueError:\n",
    "            print year\n",
    "            print row\n",
    "\n",
    "        except AttributeError:\n",
    "            pass\n",
    "\n",
    "# Write header file\n",
    "data = []\n",
    "for filename in os.listdir('data'):\n",
    "    if filename[-4:] == '.csv':\n",
    "        display = filename[:-4].replace('-', ' ').title()\n",
    "        data.append({\"display\": display, \"file\":filename[:-4]})\n",
    "\n",
    "with open('headers.json', 'w') as jsonfile:\n",
    "    json.dump(data, jsonfile)"
   ]
  },
  {
   "cell_type": "code",
   "execution_count": 8,
   "metadata": {
    "collapsed": true
   },
   "outputs": [],
   "source": [
    "def renderConsistentKeys(df): \n",
    "    big_df = pd.DataFrame(columns=['date', 'value', 'key'])\n",
    "\n",
    "    def fillZeros(df, key):\n",
    "        temp = df.groupby(['key', 'date']).first().loc[key].reindex(date_range, fill_value = 0)\n",
    "        temp['key'] = key\n",
    "        return temp.reset_index()\n",
    "\n",
    "    for key in set(df.key):\n",
    "        big_df = big_df.append(fillZeros(df, key))\n",
    "    \n",
    "    return big_df"
   ]
  },
  {
   "cell_type": "code",
   "execution_count": 9,
   "metadata": {
    "collapsed": true
   },
   "outputs": [],
   "source": [
    "for filename in os.listdir('data-percent'):\n",
    "    if filename[-4:] == '.tsv':\n",
    "        df = pd.read_csv('data-percent/' + filename, sep='\\t')\n",
    "        renderConsistentKeys(df).to_csv('data-percent/' + filename, sep='\\t', index=False)\n"
   ]
  },
  {
   "cell_type": "code",
   "execution_count": null,
   "metadata": {
    "collapsed": true
   },
   "outputs": [],
   "source": []
  }
 ],
 "metadata": {
  "kernelspec": {
   "display_name": "Python 2",
   "language": "python",
   "name": "python2"
  },
  "language_info": {
   "codemirror_mode": {
    "name": "ipython",
    "version": 2
   },
   "file_extension": ".py",
   "mimetype": "text/x-python",
   "name": "python",
   "nbconvert_exporter": "python",
   "pygments_lexer": "ipython2",
   "version": "2.7.13"
  }
 },
 "nbformat": 4,
 "nbformat_minor": 2
}
