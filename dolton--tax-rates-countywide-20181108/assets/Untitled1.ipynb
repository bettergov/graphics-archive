{
 "cells": [
  {
   "cell_type": "code",
   "execution_count": 5,
   "metadata": {},
   "outputs": [],
   "source": [
    "import pandas as pd\n",
    "\n",
    "df_rates = pd.read_csv('cook-county-tax-rates.csv')\n",
    "df_sales = pd.read_csv('final-total-to-map.csv')\n",
    "df_sales.NAME = df_sales.NAME.str.upper()"
   ]
  },
  {
   "cell_type": "code",
   "execution_count": 12,
   "metadata": {},
   "outputs": [],
   "source": [
    "df_merged = df_sales.merge(df_rates, left_on='NAME', right_on='name')\n",
    "\n",
    "df_merged['sales_per_thousand_households'] = df_merged['total_tax_sales'] / df_merged['B25001_001E'] * 1000\n",
    "df_merged.to_csv('taxes-merged.csv')"
   ]
  },
  {
   "cell_type": "code",
   "execution_count": null,
   "metadata": {},
   "outputs": [],
   "source": []
  }
 ],
 "metadata": {
  "kernelspec": {
   "display_name": "Python 3",
   "language": "python",
   "name": "python3"
  },
  "language_info": {
   "codemirror_mode": {
    "name": "ipython",
    "version": 3
   },
   "file_extension": ".py",
   "mimetype": "text/x-python",
   "name": "python",
   "nbconvert_exporter": "python",
   "pygments_lexer": "ipython3",
   "version": "3.7.0"
  }
 },
 "nbformat": 4,
 "nbformat_minor": 2
}
